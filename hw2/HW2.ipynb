{
 "cells": [
  {
   "cell_type": "markdown",
   "metadata": {},
   "source": [
    "# Import libs"
   ]
  },
  {
   "cell_type": "code",
   "execution_count": 1,
   "metadata": {},
   "outputs": [],
   "source": [
    "import gym\n",
    "\n",
    "\n",
    "import matplotlib.pyplot as plt\n",
    "import seaborn as sns\n",
    "\n",
    "import math\n",
    "import random\n",
    "import numpy as np\n",
    "\n",
    "from tqdm.notebook import tqdm_notebook\n",
    "from copy import deepcopy\n",
    "\n",
    "\n",
    "from collections import namedtuple\n",
    "\n",
    "from itertools import count\n",
    "\n",
    "\n",
    "\n",
    "import torch\n",
    "import torch.nn as nn\n",
    "import torch.optim as optim\n",
    "import torch.nn.functional as F\n",
    "import torchvision.transforms as T\n",
    "\n",
    "\n",
    "from tic_tac_toe import TicTacToe\n",
    "\n",
    "%reload_ext autoreload\n",
    "%autoreload 2\n",
    "\n",
    "sns.set_style(\"whitegrid\")\n",
    "sns.set_palette(\"colorblind\")\n",
    "palette = sns.color_palette()\n",
    "figsize = (15,8)\n",
    "legend_fontsize = 16\n",
    "%matplotlib inline"
   ]
  },
  {
   "cell_type": "markdown",
   "metadata": {},
   "source": [
    "# Task 1 "
   ]
  },
  {
   "cell_type": "markdown",
   "metadata": {},
   "source": [
    "## крестики-нолики при помощи Q-обучения"
   ]
  },
  {
   "cell_type": "markdown",
   "metadata": {},
   "source": [
    "В коде, прилагающемся к последней лекции про обучение с подкреплением, реализован Environment для крестиков-ноликов, в котором можно при инициализации указывать разные размеры доски и условия победы, а также функции для рисования, в том числе с указанием оценки различных действий. С этим окружением все задания и связаны.\n",
    "\n",
    "    1. Реализуйте обычное (табличное) Q-обучение. Обучите стратегии крестиков и ноликов для доски 3х3.\n",
    "    2. Попробуйте обучить стратегии крестиков и ноликов для доски 4х4 и/или 5х5.\n",
    "    \n",
    "**Disclaimer**: начиная с пункта 2, задания для досок размера больше 4х4 могут потребовать большого терпения или более сложных вычислительных реализаций (например, параллелизации). Не хочу в этом задании непременно требовать ни того ни другого, так что если не будет получаться доучить до победных стратегий, не страшно -- но покажите, что со временем что-то всё-таки улучшается."
   ]
  },
  {
   "cell_type": "markdown",
   "metadata": {},
   "source": [
    "### Field 3 x 3"
   ]
  },
  {
   "cell_type": "code",
   "execution_count": 4,
   "metadata": {},
   "outputs": [],
   "source": [
    "env = TicTacToe()"
   ]
  },
  {
   "cell_type": "code",
   "execution_count": 2,
   "metadata": {},
   "outputs": [],
   "source": [
    "def e_greedy(env, Q, epsilon = 0.01):\n",
    "    possible_actions = [env.int_from_action(env.getEmptySpaces()[i]) for i in range(len(env.getEmptySpaces()))]\n",
    "    if env.getState()[0] not in Q.keys():\n",
    "        Q[env.getState()[0]] = np.zeros(len(possible_actions))\n",
    "        \n",
    "    if np.random.random() > epsilon:\n",
    "        return np.argmax(Q[env.getState()[0]]), possible_actions[np.argmax(Q[env.getState()[0]])]\n",
    "    else:\n",
    "        ch = np.random.choice(len(possible_actions))\n",
    "        return ch, possible_actions[ch]"
   ]
  },
  {
   "cell_type": "code",
   "execution_count": 3,
   "metadata": {},
   "outputs": [],
   "source": [
    "LR = 0.01\n",
    "GAMMA = 1.\n",
    "\n",
    "def Q_learning_one_game(strategy, \n",
    "                        env, \n",
    "                        Q, \n",
    "                        lr = LR, \n",
    "                        gamma = GAMMA, \n",
    "                        crosses = 1, \n",
    "                        *args, **kwargs):\n",
    "    env.reset()\n",
    "    if env.curTurn != crosses:\n",
    "        possible_actions = [env.int_from_action(env.getEmptySpaces()[i]) for i in range(len(env.getEmptySpaces()))]\n",
    "        opponents_action = np.random.choice(possible_actions)\n",
    "        env.step(env.action_from_int(opponents_action))\n",
    "        \n",
    "    while True:\n",
    "        \n",
    "        state = env.getState()[0]\n",
    "\n",
    "        \n",
    "        q_action, action = strategy(env, Q, *args, **kwargs)\n",
    "\n",
    "            \n",
    "        _, reward, done, _ = env.step(env.action_from_int(action))\n",
    "        reward = crosses * reward\n",
    "        if done:\n",
    "            Q[state][q_action] += lr * (reward  - Q[state][q_action])\n",
    "            \n",
    "            return reward\n",
    "\n",
    "            \n",
    "        possible_actions = [env.int_from_action(env.getEmptySpaces()[i]) for i in range(len(env.getEmptySpaces()))]\n",
    "        opponents_action = np.random.choice(possible_actions)\n",
    "            \n",
    "            \n",
    "        next_state_, reward, done, _ = env.step(env.action_from_int(opponents_action))\n",
    "        reward = crosses * reward\n",
    "        if done:\n",
    "            Q[state][q_action] += lr * (reward  - Q[state][q_action])\n",
    "            \n",
    "            return reward\n",
    "            \n",
    "        next_state = next_state_[0]\n",
    "        if next_state in Q.keys():\n",
    "            Q[state][q_action] += lr * (reward + gamma * np.max(Q[next_state]) - Q[state][q_action])\n",
    "        else:\n",
    "            possible_actions = [env.int_from_action(env.getEmptySpaces()[i]) for i in range(len(env.getEmptySpaces()))]\n",
    "            Q[next_state] = np.zeros(len(possible_actions))\n",
    "            Q[state][q_action] += lr * (reward + gamma * np.max(Q[next_state]) - Q[state][q_action])\n",
    "            "
   ]
  },
  {
   "cell_type": "code",
   "execution_count": 4,
   "metadata": {},
   "outputs": [],
   "source": [
    "def run_many_games_Q_learning(strategy, env = TicTacToe(), n_games = 100000, verbose = True, print_every = 1000, crosses = 1, *args, **kwargs):\n",
    "    mean_game_rewards = []\n",
    "    avg_every = []\n",
    "    Q = {}\n",
    "    for i in tqdm_notebook(range(n_games)):\n",
    "        R = Q_learning_one_game(strategy, env, Q, crosses = crosses, *args, **kwargs)\n",
    "        avg_every.append(R)\n",
    "        if ((i + 1) % print_every == 0):\n",
    "            if verbose:\n",
    "                print(\"{}/{}\".format(i + 1, n_games) + \" средняя награда: {}\".format(np.mean(avg_every)))\n",
    "            mean_game_rewards.append(np.mean(avg_every))\n",
    "            avg_every = []\n",
    "    return Q, mean_game_rewards"
   ]
  },
  {
   "cell_type": "code",
   "execution_count": 15,
   "metadata": {},
   "outputs": [
    {
     "data": {
      "application/vnd.jupyter.widget-view+json": {
       "model_id": "bc3136f891ae422f90ff8d5bc0ba125a",
       "version_major": 2,
       "version_minor": 0
      },
      "text/plain": [
       "  0%|          | 0/100000 [00:00<?, ?it/s]"
      ]
     },
     "metadata": {},
     "output_type": "display_data"
    },
    {
     "data": {
      "application/vnd.jupyter.widget-view+json": {
       "model_id": "dc0f9e5bda744fd8b5732d84215a82ba",
       "version_major": 2,
       "version_minor": 0
      },
      "text/plain": [
       "  0%|          | 0/100000 [00:00<?, ?it/s]"
      ]
     },
     "metadata": {},
     "output_type": "display_data"
    }
   ],
   "source": [
    "Q_crosses, rewards_q_learning_crosses = run_many_games_Q_learning(e_greedy, verbose = False, crosses = 1)\n",
    "Q_nills, rewards_q_learning_nills = run_many_games_Q_learning(e_greedy, verbose = False, crosses = -1)"
   ]
  },
  {
   "cell_type": "code",
   "execution_count": 16,
   "metadata": {},
   "outputs": [
    {
     "data": {
      "image/png": "[encoded data removed]",
      "text/plain": [
       "<Figure size 432x288 with 1 Axes>"
      ]
     },
     "metadata": {
      "needs_background": "light"
     },
     "output_type": "display_data"
    }
   ],
   "source": [
    "plt.plot(np.array(list(range(1,101)))*1000, rewards_q_learning_crosses, label = 'x')\n",
    "plt.plot(np.array(list(range(1,101)))*1000, rewards_q_learning_nills, label = 'o')\n",
    "plt.xlabel('Шаг обучения')\n",
    "plt.ylabel('Доля выигрышей')\n",
    "plt.title(\"Игры против игрока со случайными ходами\")\n",
    "plt.legend();"
   ]
  },
  {
   "cell_type": "markdown",
   "metadata": {},
   "source": [
    "### Field 4 x 4"
   ]
  },
  {
   "cell_type": "code",
   "execution_count": 17,
   "metadata": {},
   "outputs": [
    {
     "data": {
      "application/vnd.jupyter.widget-view+json": {
       "model_id": "2cfb946145124cffb078764ba4e59004",
       "version_major": 2,
       "version_minor": 0
      },
      "text/plain": [
       "  0%|          | 0/100000 [00:00<?, ?it/s]"
      ]
     },
     "metadata": {},
     "output_type": "display_data"
    },
    {
     "data": {
      "application/vnd.jupyter.widget-view+json": {
       "model_id": "1b85b736219e474089c9f842daee7d99",
       "version_major": 2,
       "version_minor": 0
      },
      "text/plain": [
       "  0%|          | 0/100000 [00:00<?, ?it/s]"
      ]
     },
     "metadata": {},
     "output_type": "display_data"
    }
   ],
   "source": [
    "N_ROWS, N_COLS, N_WIN = 4, 4, 4\n",
    "\n",
    "env = TicTacToe(N_ROWS, N_COLS, N_WIN)\n",
    "Q_crosses, rewards_q_learning_crosses = run_many_games_Q_learning(e_greedy, \n",
    "                                                                  env = env, \n",
    "                                                                  n_games = 100000, \n",
    "                                                                  verbose = False, \n",
    "                                                                  crosses = 1)\n",
    "\n",
    "Q_nills, rewards_q_learning_nills = run_many_games_Q_learning(e_greedy, \n",
    "                                                              env = env, \n",
    "                                                              n_games = 100000, \n",
    "                                                              verbose = False, \n",
    "                                                              crosses = -1)"
   ]
  },
  {
   "cell_type": "code",
   "execution_count": 19,
   "metadata": {},
   "outputs": [
    {
     "data": {
      "image/png": "[encoded data removed]",
      "text/plain": [
       "<Figure size 432x288 with 1 Axes>"
      ]
     },
     "metadata": {
      "needs_background": "light"
     },
     "output_type": "display_data"
    }
   ],
   "source": [
    "plt.plot(np.array(list(range(1,101)))*1000, rewards_q_learning_crosses, label = 'x 4x4 поле')\n",
    "plt.plot(np.array(list(range(1,101)))*1000, rewards_q_learning_nills, label = 'o 4x4 поле')\n",
    "plt.xlabel('Шаг обучения')\n",
    "plt.ylabel('Доля выигрышей')\n",
    "plt.title(\"Игры против игрока со случайными ходами\")\n",
    "plt.legend();"
   ]
  },
  {
   "cell_type": "markdown",
   "metadata": {},
   "source": [
    "### Field 5 x 5"
   ]
  },
  {
   "cell_type": "code",
   "execution_count": 20,
   "metadata": {},
   "outputs": [
    {
     "data": {
      "application/vnd.jupyter.widget-view+json": {
       "model_id": "73ac3c826b7843808d1a5a36b540b24d",
       "version_major": 2,
       "version_minor": 0
      },
      "text/plain": [
       "  0%|          | 0/100000 [00:00<?, ?it/s]"
      ]
     },
     "metadata": {},
     "output_type": "display_data"
    },
    {
     "data": {
      "application/vnd.jupyter.widget-view+json": {
       "model_id": "b1795fd659204013a752d6d3d740101c",
       "version_major": 2,
       "version_minor": 0
      },
      "text/plain": [
       "  0%|          | 0/100000 [00:00<?, ?it/s]"
      ]
     },
     "metadata": {},
     "output_type": "display_data"
    }
   ],
   "source": [
    "N_ROWS, N_COLS, N_WIN = 4, 4, 4\n",
    "\n",
    "env = TicTacToe(N_ROWS, N_COLS, N_WIN)\n",
    "\n",
    "Q_crosses, rewards_q_learning_crosses = run_many_games_Q_learning(e_greedy, \n",
    "                                                                  env = env, \n",
    "                                                                  n_games = 100000, \n",
    "                                                                  verbose = False, \n",
    "                                                                  crosses = 1)\n",
    "\n",
    "Q_nills, rewards_q_learning_nills = run_many_games_Q_learning(e_greedy, \n",
    "                                                              env = env, \n",
    "                                                              n_games = 100000, \n",
    "                                                              verbose = False, \n",
    "                                                              crosses = -1)"
   ]
  },
  {
   "cell_type": "code",
   "execution_count": 22,
   "metadata": {},
   "outputs": [
    {
     "data": {
      "image/png": "[encoded data removed]",
      "text/plain": [
       "<Figure size 432x288 with 1 Axes>"
      ]
     },
     "metadata": {
      "needs_background": "light"
     },
     "output_type": "display_data"
    }
   ],
   "source": [
    "plt.plot(np.array(list(range(1,101)))*1000, rewards_q_learning_crosses, label = 'x 5x5 поле')\n",
    "plt.plot(np.array(list(range(1,101)))*1000, rewards_q_learning_nills, label = 'o 5x5 поле')\n",
    "plt.xlabel('Шаг обучения')\n",
    "plt.ylabel('Доля выигрышей')\n",
    "plt.title(\"Игры против игрока со случайными ходами\")\n",
    "plt.legend();"
   ]
  },
  {
   "cell_type": "markdown",
   "metadata": {},
   "source": [
    "# Task 2"
   ]
  },
  {
   "cell_type": "markdown",
   "metadata": {},
   "source": [
    "## добавим нейронных сетей"
   ]
  },
  {
   "cell_type": "markdown",
   "metadata": {},
   "source": [
    "Реализуйте нейронную сеть для метода DQN на доске для крестиков-ноликов. Не буду ограничивать фантазию, но кажется, что свёртки 3х3 здесь должны неплохо работать (в том числе обобщаться на доски размера побольше).\n",
    "\n",
    "    1. Реализуйте DQN с нейронной сетью, обучите стратегии крестиков и ноликов. Замечание: скорее всего,           experience replay потребуется сразу же.\n",
    "    2. Реализуйте Double DQN и/или Dueling DQN."
   ]
  },
  {
   "cell_type": "code",
   "execution_count": 5,
   "metadata": {},
   "outputs": [],
   "source": [
    "Capcity = 10000\n",
    "N_games = 10000\n",
    "n_chanels = 9\n",
    "batch_size = 64\n",
    "device = 'cuda:0' if torch.cuda.is_available() else 'cpu'"
   ]
  },
  {
   "cell_type": "code",
   "execution_count": 6,
   "metadata": {},
   "outputs": [],
   "source": [
    "from DQN import DQN, DQN_noughts"
   ]
  },
  {
   "cell_type": "code",
   "execution_count": 7,
   "metadata": {},
   "outputs": [],
   "source": [
    "Transition = namedtuple('Transition',\n",
    "                        ('state', 'action', 'next_state', 'reward'))\n",
    "\n",
    "class ReplayMemory(object):\n",
    "\n",
    "    def __init__(self, capacity):\n",
    "        self.capacity = capacity\n",
    "        self.memory = []\n",
    "        self.position = 0\n",
    "\n",
    "    def push(self, *args):\n",
    "        \"\"\"Saves a transition.\"\"\"\n",
    "        if len(self.memory) < self.capacity:\n",
    "            self.memory.append(None)\n",
    "        self.memory[self.position] = Transition(*args)\n",
    "        self.position = (self.position + 1) % self.capacity\n",
    "\n",
    "    def sample(self, batch_size):\n",
    "        return random.sample(self.memory, batch_size)\n",
    "\n",
    "    def __len__(self):\n",
    "        return len(self.memory)"
   ]
  },
  {
   "cell_type": "code",
   "execution_count": 8,
   "metadata": {},
   "outputs": [],
   "source": [
    "def e_greedy_dqn(env, dqn, epsilon = 0.01, device = device):\n",
    "    possible_actions = [env.int_from_action(env.getEmptySpaces()[i]) for i in range(len(env.getEmptySpaces()))]\n",
    "    fstate = torch.Tensor(env.board)\n",
    "    actions = dqn(fstate.unsqueeze(0).unsqueeze(0).to(device)).squeeze(0).cpu().detach().numpy()\n",
    "    #print(possible_actions)\n",
    "    Q_actions = actions[possible_actions] \n",
    "    #print(epsilon)\n",
    "    if np.random.random() > epsilon:\n",
    "        return possible_actions[np.argmax(Q_actions)]\n",
    "    else:\n",
    "        return np.random.choice(possible_actions)"
   ]
  },
  {
   "cell_type": "code",
   "execution_count": 9,
   "metadata": {},
   "outputs": [],
   "source": [
    "def dqn_learn(dqn, memory, optimizer, gamma):\n",
    "    batch = memory.sample(batch_size)\n",
    "    \n",
    "    fstate_batch = [el[0] for el in batch]\n",
    "    \n",
    "    actions = np.array([el[1] for el in batch])\n",
    "    \n",
    "    fnext_state_batch = [el[2][0] for el in batch]\n",
    "    isTermanal = [el[2][1] for el in batch]\n",
    "    fnext_actions = [el[2][2] for el in batch]\n",
    "    \n",
    "    reward = np.array([el[3] for el in batch])\n",
    "    \n",
    "    with torch.no_grad():\n",
    "        predictions = dqn(torch.Tensor(fnext_state_batch).unsqueeze(1).to(device)).cpu().detach().numpy()\n",
    "        predicted_target = gamma * np.array(\n",
    "            [np.max(predictions[i][fnext_actions[i]]) if fnext_actions[i] != [] else 0. for i in range(batch_size)])\n",
    "        predicted_target += reward\n",
    "        target = torch.Tensor([reward[i] if isTermanal[i] else predicted_target[i] for i in range(batch_size)])\n",
    "    \n",
    "    predictions = dqn(torch.Tensor(fstate_batch).unsqueeze(1).to(device)).cpu().squeeze()\n",
    "\n",
    "    loss = F.mse_loss(predictions[np.arange(batch_size), actions], target)\n",
    "    \n",
    "    loss.backward()\n",
    "    optimizer.step()\n",
    "    optimizer.zero_grad()\n",
    "    \n",
    "    return loss.item()"
   ]
  },
  {
   "cell_type": "code",
   "execution_count": 10,
   "metadata": {},
   "outputs": [],
   "source": [
    "def DQN_train_episode(env, NN, optimizer, memory, gamma = 1., crosses = 1, Capcity = Capcity, device = device, *args, **kwargs):\n",
    "    env.reset()\n",
    "    \n",
    "    if env.curTurn != crosses:\n",
    "        possible_actions = [env.int_from_action(env.getEmptySpaces()[i]) for i in range(len(env.getEmptySpaces()))]\n",
    "        opponents_action = np.random.choice(possible_actions)\n",
    "        env.step(env.action_from_int(opponents_action))\n",
    "    loss = 0.\n",
    "    \n",
    "    while True:\n",
    "\n",
    "        fstate = env.board\n",
    "        fstate_actions = [env.int_from_action(env.getEmptySpaces()[i]) for i in range(len(env.getEmptySpaces()))]\n",
    "        \n",
    "        action = e_greedy_dqn(env, NN, *args, **kwargs)\n",
    "\n",
    "        _, reward, done, _ = env.step(env.action_from_int(action))\n",
    "        reward = crosses * reward\n",
    "        \n",
    "        if done:\n",
    "            memory.push(fstate, action, (env.board, done, []), reward)\n",
    "            if len(memory) >= batch_size:\n",
    "                loss += dqn_learn(NN, memory, optimizer, gamma)\n",
    "            return reward, loss\n",
    "\n",
    "        possible_actions = [env.int_from_action(env.getEmptySpaces()[i]) for i in range(len(env.getEmptySpaces()))]\n",
    "        opponents_action = np.random.choice(possible_actions)\n",
    "            \n",
    "\n",
    "        _, reward, done, _ = env.step(env.action_from_int(opponents_action))\n",
    "        reward = crosses * reward\n",
    "        \n",
    "        if done:\n",
    "            memory.push(fstate, action, (env.board, done, []), reward)\n",
    "            if len(memory) >= batch_size:\n",
    "                loss += dqn_learn(NN, memory, optimizer, gamma)\n",
    "            return reward, loss\n",
    "        else:\n",
    "            fnext_actions = [env.int_from_action(env.getEmptySpaces()[i]) for i in range(len(env.getEmptySpaces()))]\n",
    "            memory.push(fstate, action, (env.board, not done, fnext_actions), reward)\n",
    "            if len(memory) >= batch_size:\n",
    "                loss += dqn_learn(NN, memory, optimizer, gamma)"
   ]
  },
  {
   "cell_type": "code",
   "execution_count": 11,
   "metadata": {},
   "outputs": [],
   "source": [
    "def DQN_train(env, NN, N_games = N_games, gamma = 1., crosses = 1, Capcity = Capcity, device = device, verbose = True, print_every = 1000,  *args, **kwargs):\n",
    "    memory = ReplayMemory(Capcity)\n",
    "    optimizer = optim.Adam(NN.parameters(), 0.01)\n",
    "    \n",
    "    mean_game_rewards = []\n",
    "    mean_game_loss = []\n",
    "    avg_every = []\n",
    "    loss_every = []\n",
    "    epsilon = 1.\n",
    "    for i in tqdm_notebook(range(N_games)):\n",
    "        if i % 1000 == 999:\n",
    "            epsilon = epsilon - 0.1\n",
    "            epsilon = max(0.01, epsilon)\n",
    "            \n",
    "        R, loss = DQN_train_episode(env, NN, optimizer, memory, gamma, crosses, Capcity, device, epsilon= epsilon,*args, **kwargs)\n",
    "        avg_every.append(R)\n",
    "        loss_every.append(loss)\n",
    "        if ((i + 1) % print_every == 0):\n",
    "            if verbose:\n",
    "                print(\"{}/{}\".format(i + 1, N_games) + \" средняя награда: {}\".format(np.mean(avg_every)) + ' loss: {}'.format(np.mean(loss_every)))\n",
    "            mean_game_rewards.append(np.mean(avg_every))\n",
    "            mean_game_loss.append(np.mean(loss_every))\n",
    "            avg_every = []\n",
    "            loss_every = []\n",
    "    return NN, mean_game_rewards"
   ]
  },
  {
   "cell_type": "markdown",
   "metadata": {},
   "source": [
    "## Поле 3x3x3"
   ]
  },
  {
   "cell_type": "code",
   "execution_count": 24,
   "metadata": {},
   "outputs": [
    {
     "data": {
      "application/vnd.jupyter.widget-view+json": {
       "model_id": "c6e805057c94474fb6f28e9a9ac4f059",
       "version_major": 2,
       "version_minor": 0
      },
      "text/plain": [
       "  0%|          | 0/10000 [00:00<?, ?it/s]"
      ]
     },
     "metadata": {},
     "output_type": "display_data"
    },
    {
     "name": "stdout",
     "output_type": "stream",
     "text": [
      "1000/10000 средняя награда: 0.302 loss: 0.6486224440410733\n",
      "2000/10000 средняя награда: 0.253 loss: 0.65298202303797\n",
      "3000/10000 средняя награда: 0.301 loss: 0.6727138581499458\n",
      "4000/10000 средняя награда: 0.383 loss: 0.6731553456932307\n",
      "5000/10000 средняя награда: 0.447 loss: 0.667372859492898\n",
      "6000/10000 средняя награда: 0.459 loss: 0.6499378745704889\n",
      "7000/10000 средняя награда: 0.519 loss: 0.644216894544661\n",
      "8000/10000 средняя награда: 0.578 loss: 0.6214305344522\n",
      "9000/10000 средняя награда: 0.693 loss: 0.6067255467027426\n",
      "10000/10000 средняя награда: 0.727 loss: 0.6051529905498028\n"
     ]
    }
   ],
   "source": [
    "N_ROWS, N_COLS, N_WIN = 3, 3, 3\n",
    "\n",
    "env = TicTacToe(N_ROWS, N_COLS, N_WIN)\n",
    "NN_crosses = DQN(env.n_cols).to(device)\n",
    "Q_crosses, crosses_rewards = DQN_train(env, NN_crosses, N_games= 10000, print_every = 1000)"
   ]
  },
  {
   "cell_type": "code",
   "execution_count": 25,
   "metadata": {},
   "outputs": [
    {
     "data": {
      "application/vnd.jupyter.widget-view+json": {
       "model_id": "30324f80f3e8435b94740ebf53090737",
       "version_major": 2,
       "version_minor": 0
      },
      "text/plain": [
       "  0%|          | 0/10000 [00:00<?, ?it/s]"
      ]
     },
     "metadata": {},
     "output_type": "display_data"
    },
    {
     "name": "stdout",
     "output_type": "stream",
     "text": [
      "1000/10000 средняя награда: -0.282 loss: 0.4094306162726134\n",
      "2000/10000 средняя награда: -0.232 loss: 0.5580259531438351\n",
      "3000/10000 средняя награда: -0.202 loss: 0.5790978664234281\n",
      "4000/10000 средняя награда: -0.141 loss: 0.5918115236759186\n",
      "5000/10000 средняя награда: -0.067 loss: 0.5682557141780853\n",
      "6000/10000 средняя награда: -0.003 loss: 0.5384558214768768\n",
      "7000/10000 средняя награда: 0.007 loss: 0.5071703335866332\n",
      "8000/10000 средняя награда: 0.09 loss: 0.4797732244208455\n",
      "9000/10000 средняя награда: 0.095 loss: 0.43193028812482953\n",
      "10000/10000 средняя награда: 0.122 loss: 0.3663834119699895\n"
     ]
    }
   ],
   "source": [
    "\n",
    "NN_noughts = DQN_noughts(env.n_cols, 64).to(device)\n",
    "Q_noughts, noughts_rewards = DQN_train(env, NN_noughts, crosses = -1, N_games= 10000, print_every = 1000)"
   ]
  },
  {
   "cell_type": "code",
   "execution_count": 28,
   "metadata": {},
   "outputs": [
    {
     "data": {
      "text/plain": [
       "<matplotlib.legend.Legend at 0x7f2e58fba580>"
      ]
     },
     "execution_count": 28,
     "metadata": {},
     "output_type": "execute_result"
    },
    {
     "data": {
      "image/png": "[encoded data removed]",
      "text/plain": [
       "<Figure size 432x288 with 1 Axes>"
      ]
     },
     "metadata": {
      "needs_background": "light"
     },
     "output_type": "display_data"
    }
   ],
   "source": [
    "plt.plot(np.array(list(range(1,11)))*1000, crosses_rewards, label = 'х 3x3 поле')\n",
    "plt.plot(np.array(list(range(1,11)))*1000, noughts_rewards, label = 'о 3x3 поле')\n",
    "plt.xlabel('Шаг обучения')\n",
    "plt.ylabel('Доля выигрышей')\n",
    "plt.title(\"Игры против игрока со случайными ходами\")\n",
    "plt.legend()"
   ]
  },
  {
   "cell_type": "markdown",
   "metadata": {},
   "source": [
    "## Поле 4x4x4 "
   ]
  },
  {
   "cell_type": "code",
   "execution_count": 29,
   "metadata": {},
   "outputs": [
    {
     "data": {
      "application/vnd.jupyter.widget-view+json": {
       "model_id": "f03dded82e8f4ab6a6d5d805b3a55c51",
       "version_major": 2,
       "version_minor": 0
      },
      "text/plain": [
       "  0%|          | 0/10000 [00:00<?, ?it/s]"
      ]
     },
     "metadata": {},
     "output_type": "display_data"
    },
    {
     "name": "stdout",
     "output_type": "stream",
     "text": [
      "1000/10000 средняя награда: -0.038 loss: 0.5436469127889723\n",
      "2000/10000 средняя награда: 0.104 loss: 0.6042799166338518\n",
      "3000/10000 средняя награда: 0.086 loss: 0.5981243469202892\n",
      "4000/10000 средняя награда: 0.084 loss: 0.5890109919626266\n",
      "5000/10000 средняя награда: 0.171 loss: 0.6046859338115901\n",
      "6000/10000 средняя награда: 0.221 loss: 0.6165616437001153\n",
      "7000/10000 средняя награда: 0.253 loss: 0.6415489838477224\n",
      "8000/10000 средняя награда: 0.344 loss: 0.6351877152901143\n",
      "9000/10000 средняя награда: 0.386 loss: 0.6512718381416053\n",
      "10000/10000 средняя награда: 0.513 loss: 0.6420244537908584\n"
     ]
    }
   ],
   "source": [
    "N_ROWS, N_COLS, N_WIN = 4, 4, 4\n",
    "\n",
    "env = TicTacToe(N_ROWS, N_COLS, N_WIN)\n",
    "NN_crosses = DQN(env.n_cols).to(device)\n",
    "Q_crosses, crosses_rewards = DQN_train(env, NN_crosses, N_games= 10000, print_every = 1000)"
   ]
  },
  {
   "cell_type": "code",
   "execution_count": 30,
   "metadata": {},
   "outputs": [
    {
     "data": {
      "application/vnd.jupyter.widget-view+json": {
       "model_id": "1de5a39753c74a06ac800896a0fbc2ae",
       "version_major": 2,
       "version_minor": 0
      },
      "text/plain": [
       "  0%|          | 0/10000 [00:00<?, ?it/s]"
      ]
     },
     "metadata": {},
     "output_type": "display_data"
    },
    {
     "name": "stdout",
     "output_type": "stream",
     "text": [
      "1000/10000 средняя награда: -0.054 loss: 0.24191524264309555\n",
      "2000/10000 средняя награда: -0.037 loss: 0.44039612719090654\n",
      "3000/10000 средняя награда: -0.008 loss: 0.45347688330011443\n",
      "4000/10000 средняя награда: -0.004 loss: 0.4661152412197553\n",
      "5000/10000 средняя награда: -0.023 loss: 0.47660419581457975\n",
      "6000/10000 средняя награда: -0.009 loss: 0.4882596419285983\n",
      "7000/10000 средняя награда: -0.013 loss: 0.4775818660352379\n",
      "8000/10000 средняя награда: 0.041 loss: 0.45000068193674087\n",
      "9000/10000 средняя награда: 0.204 loss: 0.5014622507942841\n",
      "10000/10000 средняя награда: 0.283 loss: 0.5040361042078585\n"
     ]
    }
   ],
   "source": [
    "\n",
    "NN_noughts = DQN_noughts(env.n_cols, 128).to(device)\n",
    "Q_noughts, noughts_rewards = DQN_train(env, NN_noughts, crosses = -1, N_games= 10000, print_every = 1000)"
   ]
  },
  {
   "cell_type": "code",
   "execution_count": 31,
   "metadata": {},
   "outputs": [
    {
     "data": {
      "text/plain": [
       "<matplotlib.legend.Legend at 0x7f2e58e13c40>"
      ]
     },
     "execution_count": 31,
     "metadata": {},
     "output_type": "execute_result"
    },
    {
     "data": {
      "image/png": "[encoded data removed]",
      "text/plain": [
       "<Figure size 432x288 with 1 Axes>"
      ]
     },
     "metadata": {
      "needs_background": "light"
     },
     "output_type": "display_data"
    }
   ],
   "source": [
    "plt.plot(np.array(list(range(1,11)))*1000, crosses_rewards, label = 'х 4x4 поле')\n",
    "plt.plot(np.array(list(range(1,11)))*1000, noughts_rewards, label = 'о 4x4 поле')\n",
    "plt.xlabel('Шаг обучения')\n",
    "plt.ylabel('Доля выигрышей')\n",
    "plt.title(\"Игры против игрока со случайными ходами\")\n",
    "plt.legend()"
   ]
  },
  {
   "cell_type": "markdown",
   "metadata": {},
   "source": [
    "## Поле 5x5x5 "
   ]
  },
  {
   "cell_type": "code",
   "execution_count": 32,
   "metadata": {},
   "outputs": [
    {
     "data": {
      "application/vnd.jupyter.widget-view+json": {
       "model_id": "4fe16a66869547258a574138c7453679",
       "version_major": 2,
       "version_minor": 0
      },
      "text/plain": [
       "  0%|          | 0/10000 [00:00<?, ?it/s]"
      ]
     },
     "metadata": {},
     "output_type": "display_data"
    },
    {
     "name": "stdout",
     "output_type": "stream",
     "text": [
      "1000/10000 средняя награда: 0.103 loss: 0.49403290934627875\n",
      "2000/10000 средняя награда: 0.104 loss: 0.5589349873745814\n",
      "3000/10000 средняя награда: 0.141 loss: 0.5809131726808846\n",
      "4000/10000 средняя награда: 0.121 loss: 0.5911447761664167\n",
      "5000/10000 средняя награда: 0.143 loss: 0.5886913788560778\n",
      "6000/10000 средняя награда: 0.169 loss: 0.5952055090535432\n",
      "7000/10000 средняя награда: 0.197 loss: 0.6181815266800113\n",
      "8000/10000 средняя награда: 0.276 loss: 0.6376784077705815\n",
      "9000/10000 средняя награда: 0.279 loss: 0.6273281706189737\n",
      "10000/10000 средняя награда: 0.374 loss: 0.6562768976930529\n"
     ]
    }
   ],
   "source": [
    "N_ROWS, N_COLS, N_WIN = 5,5,5\n",
    "\n",
    "env = TicTacToe(N_ROWS, N_COLS, N_WIN)\n",
    "NN_crosses = DQN(env.n_cols).to(device)\n",
    "Q_crosses, crosses_rewards = DQN_train(env, NN_crosses, N_games= 10000, print_every = 1000)"
   ]
  },
  {
   "cell_type": "code",
   "execution_count": 33,
   "metadata": {},
   "outputs": [
    {
     "data": {
      "application/vnd.jupyter.widget-view+json": {
       "model_id": "6ea0b56fd8e041ffa7d71755db3d51ce",
       "version_major": 2,
       "version_minor": 0
      },
      "text/plain": [
       "  0%|          | 0/10000 [00:00<?, ?it/s]"
      ]
     },
     "metadata": {},
     "output_type": "display_data"
    },
    {
     "name": "stdout",
     "output_type": "stream",
     "text": [
      "1000/10000 средняя награда: -0.075 loss: 0.2312966230188904\n",
      "2000/10000 средняя награда: -0.084 loss: 0.37094391144478867\n",
      "3000/10000 средняя награда: -0.056 loss: 0.38069021804613296\n",
      "4000/10000 средняя награда: -0.058 loss: 0.42004941665440854\n",
      "5000/10000 средняя награда: -0.094 loss: 0.4119632355223439\n",
      "6000/10000 средняя награда: -0.002 loss: 0.4276356411587185\n",
      "7000/10000 средняя награда: 0.08 loss: 0.42689514728344513\n",
      "8000/10000 средняя награда: 0.153 loss: 0.4328260531203705\n",
      "9000/10000 средняя награда: 0.312 loss: 0.5054558726118994\n",
      "10000/10000 средняя награда: 0.426 loss: 0.5753039950458333\n"
     ]
    }
   ],
   "source": [
    "\n",
    "NN_noughts = DQN_noughts(env.n_cols, 256).to(device)\n",
    "Q_noughts, noughts_rewards = DQN_train(env, NN_noughts, crosses = -1, N_games= 10000, print_every = 1000)"
   ]
  },
  {
   "cell_type": "code",
   "execution_count": 35,
   "metadata": {},
   "outputs": [
    {
     "data": {
      "image/png": "[encoded data removed]",
      "text/plain": [
       "<Figure size 432x288 with 1 Axes>"
      ]
     },
     "metadata": {
      "needs_background": "light"
     },
     "output_type": "display_data"
    }
   ],
   "source": [
    "plt.plot(np.array(list(range(1,11)))*1000, crosses_rewards, label = 'х 5x5 поле')\n",
    "plt.plot(np.array(list(range(1,11)))*1000, noughts_rewards, label = 'о 5x5 поле')\n",
    "plt.xlabel('Шаг обучения')\n",
    "plt.ylabel('Доля выигрышей')\n",
    "plt.title(\"Игры против игрока со случайными ходами\")\n",
    "plt.legend();"
   ]
  },
  {
   "cell_type": "markdown",
   "metadata": {},
   "source": [
    "## Dueling DQN "
   ]
  },
  {
   "cell_type": "code",
   "execution_count": 36,
   "metadata": {},
   "outputs": [],
   "source": [
    "class DuelingDQN(nn.Module):\n",
    "    def __init__(self, field_size, n_chanels):\n",
    "        super(DuelingDQN, self).__init__()\n",
    "        self.field_size = field_size\n",
    "        self.n_chanels = n_chanels\n",
    "        \n",
    "        self.conv = nn.Conv2d(1, self.n_chanels, kernel_size = self.field_size)\n",
    "        self.l = nn.Linear(self.n_chanels, self.field_size * self.field_size)\n",
    "        self.l2 = nn.Linear(self.n_chanels, 1)\n",
    "    def forward(self, x):\n",
    "        x = torch.tanh(self.conv(x))\n",
    "        b = x.size()[0]\n",
    "        x = x.view(b, -1)\n",
    "        \n",
    "\n",
    "        z = self.l(x)\n",
    "\n",
    "        y = self.l2(x)\n",
    "        ma =  torch.mean(z, dim=1, keepdim=True)\n",
    "\n",
    "        return z + y - ma"
   ]
  },
  {
   "cell_type": "code",
   "execution_count": 37,
   "metadata": {},
   "outputs": [
    {
     "data": {
      "application/vnd.jupyter.widget-view+json": {
       "model_id": "697cbc105d6043539f37cb5e6a689f1d",
       "version_major": 2,
       "version_minor": 0
      },
      "text/plain": [
       "  0%|          | 0/10000 [00:00<?, ?it/s]"
      ]
     },
     "metadata": {},
     "output_type": "display_data"
    },
    {
     "name": "stdout",
     "output_type": "stream",
     "text": [
      "1000/10000 средняя награда: 0.267 loss: 0.5258839418664575\n",
      "2000/10000 средняя награда: 0.314 loss: 0.6309869500920177\n",
      "3000/10000 средняя награда: 0.364 loss: 0.6440383608341217\n",
      "4000/10000 средняя награда: 0.423 loss: 0.6502936293557287\n",
      "5000/10000 средняя награда: 0.397 loss: 0.6511019705384969\n",
      "6000/10000 средняя награда: 0.458 loss: 0.6322915541827678\n",
      "7000/10000 средняя награда: 0.438 loss: 0.603042608320713\n",
      "8000/10000 средняя награда: 0.463 loss: 0.5705676930248738\n",
      "9000/10000 средняя награда: 0.503 loss: 0.546603781118989\n",
      "10000/10000 средняя награда: 0.601 loss: 0.5923552105128765\n"
     ]
    }
   ],
   "source": [
    "N_ROWS, N_COLS, N_WIN = 3,3,3\n",
    "\n",
    "env = TicTacToe(N_ROWS, N_COLS, N_WIN)\n",
    "NN_crosses = DuelingDQN(env.n_cols, 32).to(device)\n",
    "Q_crosses, crosses_rewards = DQN_train(env, NN_crosses, N_games= 10000, print_every = 1000)"
   ]
  },
  {
   "cell_type": "code",
   "execution_count": 41,
   "metadata": {},
   "outputs": [
    {
     "data": {
      "application/vnd.jupyter.widget-view+json": {
       "model_id": "ea92b4c5b857425586119f77033848f1",
       "version_major": 2,
       "version_minor": 0
      },
      "text/plain": [
       "  0%|          | 0/10000 [00:00<?, ?it/s]"
      ]
     },
     "metadata": {},
     "output_type": "display_data"
    },
    {
     "name": "stdout",
     "output_type": "stream",
     "text": [
      "1000/10000 средняя награда: -0.313 loss: 0.4767444503456354\n",
      "2000/10000 средняя награда: -0.26 loss: 0.6216730852723121\n",
      "3000/10000 средняя награда: -0.265 loss: 0.6423367734625935\n",
      "4000/10000 средняя награда: -0.198 loss: 0.6340820740088821\n",
      "5000/10000 средняя награда: -0.278 loss: 0.629413695603609\n",
      "6000/10000 средняя награда: -0.308 loss: 0.616542564675212\n",
      "7000/10000 средняя награда: -0.154 loss: 0.6107961903214455\n",
      "8000/10000 средняя награда: -0.197 loss: 0.588397825345397\n",
      "9000/10000 средняя награда: -0.2 loss: 0.599630293160677\n",
      "10000/10000 средняя награда: -0.146 loss: 0.5772876876294613\n"
     ]
    }
   ],
   "source": [
    "\n",
    "NN_noughts = DuelingDQN(env.n_cols, 32).to(device)\n",
    "Q_noughts, noughts_rewards = DQN_train(env, NN_noughts, N_games= 10000, crosses = -1, print_every = 1000)"
   ]
  },
  {
   "cell_type": "code",
   "execution_count": 43,
   "metadata": {},
   "outputs": [
    {
     "data": {
      "image/png": "[encoded data removed]",
      "text/plain": [
       "<Figure size 432x288 with 1 Axes>"
      ]
     },
     "metadata": {
      "needs_background": "light"
     },
     "output_type": "display_data"
    }
   ],
   "source": [
    "plt.plot(np.array(list(range(1,11)))*1000, crosses_rewards, label = 'х 3x3 поле')\n",
    "plt.plot(np.array(list(range(1,11)))*1000, noughts_rewards, label = 'о 3x3 поле')\n",
    "plt.xlabel('Шаг обучения')\n",
    "plt.ylabel('Доля выигрышей')\n",
    "plt.title(\"Игры против игрока со случайными ходами\")\n",
    "plt.legend();"
   ]
  },
  {
   "cell_type": "code",
   "execution_count": 44,
   "metadata": {},
   "outputs": [
    {
     "data": {
      "application/vnd.jupyter.widget-view+json": {
       "model_id": "e58a03b78e354a5cb77d22cf020b890a",
       "version_major": 2,
       "version_minor": 0
      },
      "text/plain": [
       "  0%|          | 0/10000 [00:00<?, ?it/s]"
      ]
     },
     "metadata": {},
     "output_type": "display_data"
    },
    {
     "name": "stdout",
     "output_type": "stream",
     "text": [
      "1000/10000 средняя награда: 0.011 loss: 0.4572445175885223\n",
      "2000/10000 средняя награда: 0.1 loss: 0.5729173790803179\n",
      "3000/10000 средняя награда: 0.046 loss: 0.5698997140480205\n",
      "4000/10000 средняя награда: 0.093 loss: 0.5993367598606274\n",
      "5000/10000 средняя награда: 0.138 loss: 0.6019398034317419\n",
      "6000/10000 средняя награда: 0.108 loss: 0.6085342444842682\n",
      "7000/10000 средняя награда: 0.177 loss: 0.6147387215457857\n",
      "8000/10000 средняя награда: 0.234 loss: 0.6295020334543661\n",
      "9000/10000 средняя награда: 0.101 loss: 0.6316123679289595\n",
      "10000/10000 средняя награда: 0.097 loss: 0.5648363993819803\n"
     ]
    }
   ],
   "source": [
    "env = TicTacToe(4,4,4)\n",
    "NN_crosses = DuelingDQN(env.n_cols, 32).to(device)\n",
    "Q_crosses, crosses_rewards = DQN_train(env, NN_crosses, N_games= 10000, print_every = 1000)"
   ]
  },
  {
   "cell_type": "code",
   "execution_count": 45,
   "metadata": {},
   "outputs": [
    {
     "data": {
      "application/vnd.jupyter.widget-view+json": {
       "model_id": "6cfd97a38f8244bca04abdc244777fe7",
       "version_major": 2,
       "version_minor": 0
      },
      "text/plain": [
       "  0%|          | 0/10000 [00:00<?, ?it/s]"
      ]
     },
     "metadata": {},
     "output_type": "display_data"
    },
    {
     "name": "stdout",
     "output_type": "stream",
     "text": [
      "1000/10000 средняя награда: -0.028 loss: 0.43484412641916426\n",
      "2000/10000 средняя награда: -0.032 loss: 0.5740753700435162\n",
      "3000/10000 средняя награда: -0.045 loss: 0.5610303767966106\n",
      "4000/10000 средняя награда: -0.013 loss: 0.5821138524264097\n",
      "5000/10000 средняя награда: 0.022 loss: 0.613598571728915\n",
      "6000/10000 средняя награда: 0.104 loss: 0.5961378635941074\n",
      "7000/10000 средняя награда: 0.125 loss: 0.5819693845920265\n",
      "8000/10000 средняя награда: 0.175 loss: 0.5716701140962541\n",
      "9000/10000 средняя награда: 0.306 loss: 0.5313067739456891\n",
      "10000/10000 средняя награда: 0.205 loss: 0.5328191100703552\n"
     ]
    }
   ],
   "source": [
    "env = TicTacToe(4,4,4)\n",
    "NN_noughts = DuelingDQN(env.n_cols, 32).to(device)\n",
    "Q_noughts, noughts_rewards = DQN_train(env, NN_noughts, N_games= 10000, crosses = -1, print_every = 1000)"
   ]
  },
  {
   "cell_type": "code",
   "execution_count": 46,
   "metadata": {},
   "outputs": [
    {
     "data": {
      "image/png": "[encoded data removed]",
      "text/plain": [
       "<Figure size 432x288 with 1 Axes>"
      ]
     },
     "metadata": {
      "needs_background": "light"
     },
     "output_type": "display_data"
    }
   ],
   "source": [
    "plt.plot(np.array(list(range(1,11)))*1000, crosses_rewards, label = 'х 4x4 поле')\n",
    "plt.plot(np.array(list(range(1,11)))*1000, noughts_rewards, label = 'о 4x4 поле')\n",
    "plt.xlabel('Шаг обучения')\n",
    "plt.ylabel('Доля выигрышей')\n",
    "plt.title(\"Игры против игрока со случайными ходами\")\n",
    "plt.legend();"
   ]
  },
  {
   "cell_type": "code",
   "execution_count": 47,
   "metadata": {},
   "outputs": [
    {
     "data": {
      "application/vnd.jupyter.widget-view+json": {
       "model_id": "915ef340908e4815817fb644329e7124",
       "version_major": 2,
       "version_minor": 0
      },
      "text/plain": [
       "  0%|          | 0/10000 [00:00<?, ?it/s]"
      ]
     },
     "metadata": {},
     "output_type": "display_data"
    },
    {
     "name": "stdout",
     "output_type": "stream",
     "text": [
      "1000/10000 средняя награда: 0.079 loss: 0.37094674350065177\n",
      "2000/10000 средняя награда: 0.059 loss: 0.4326708289787639\n",
      "3000/10000 средняя награда: 0.067 loss: 0.4464451170465909\n",
      "4000/10000 средняя награда: 0.084 loss: 0.4418828848297708\n",
      "5000/10000 средняя награда: 0.155 loss: 0.46314234658447095\n",
      "6000/10000 средняя награда: 0.086 loss: 0.47123598082759416\n",
      "7000/10000 средняя награда: 0.136 loss: 0.47910367378476076\n",
      "8000/10000 средняя награда: 0.226 loss: 0.5270159668498673\n",
      "9000/10000 средняя награда: 0.269 loss: 0.513514640283538\n",
      "10000/10000 средняя награда: 0.27 loss: 0.49374396304530094\n"
     ]
    }
   ],
   "source": [
    "env = TicTacToe(5,5,5)\n",
    "NN_crosses = DuelingDQN(env.n_cols, 32).to(device)\n",
    "Q_crosses, crosses_rewards = DQN_train(env, NN_crosses, N_games= 10000, print_every = 1000)"
   ]
  },
  {
   "cell_type": "code",
   "execution_count": 48,
   "metadata": {},
   "outputs": [
    {
     "data": {
      "application/vnd.jupyter.widget-view+json": {
       "model_id": "705f5ef96102441abe91b46f15f3d7c3",
       "version_major": 2,
       "version_minor": 0
      },
      "text/plain": [
       "  0%|          | 0/10000 [00:00<?, ?it/s]"
      ]
     },
     "metadata": {},
     "output_type": "display_data"
    },
    {
     "name": "stdout",
     "output_type": "stream",
     "text": [
      "1000/10000 средняя награда: -0.108 loss: 0.3869594771157717\n",
      "2000/10000 средняя награда: -0.111 loss: 0.42911702625430187\n",
      "3000/10000 средняя награда: -0.113 loss: 0.448773420709651\n",
      "4000/10000 средняя награда: -0.083 loss: 0.4495966583581176\n",
      "5000/10000 средняя награда: -0.07 loss: 0.4639938054033555\n",
      "6000/10000 средняя награда: -0.089 loss: 0.4368739061418455\n",
      "7000/10000 средняя награда: -0.069 loss: 0.4706618945293594\n",
      "8000/10000 средняя награда: -0.071 loss: 0.44163957898295486\n",
      "9000/10000 средняя награда: -0.095 loss: 0.4577581708165817\n",
      "10000/10000 средняя награда: -0.087 loss: 0.42557881633774375\n"
     ]
    }
   ],
   "source": [
    "\n",
    "NN_noughts = DuelingDQN(env.n_cols, 32).to(device)\n",
    "Q_noughts, noughts_rewards = DQN_train(env, NN_noughts, N_games= 10000, crosses = -1, print_every = 1000)"
   ]
  },
  {
   "cell_type": "code",
   "execution_count": 49,
   "metadata": {},
   "outputs": [
    {
     "data": {
      "image/png": "[encoded data removed]",
      "text/plain": [
       "<Figure size 432x288 with 1 Axes>"
      ]
     },
     "metadata": {
      "needs_background": "light"
     },
     "output_type": "display_data"
    }
   ],
   "source": [
    "plt.plot(np.array(list(range(1,11)))*1000, crosses_rewards, label = 'х 5x5 поле')\n",
    "plt.plot(np.array(list(range(1,11)))*1000, noughts_rewards, label = 'о 5x5 поле')\n",
    "plt.xlabel('Шаг обучения')\n",
    "plt.ylabel('Доля выигрышей')\n",
    "plt.title(\"Игры против игрока со случайными ходами\")\n",
    "plt.legend();"
   ]
  },
  {
   "cell_type": "markdown",
   "metadata": {},
   "source": [
    "# Task 3"
   ]
  },
  {
   "cell_type": "markdown",
   "metadata": {},
   "source": [
    "## расширим и углубим поиск"
   ]
  },
  {
   "cell_type": "markdown",
   "metadata": {},
   "source": [
    "Крестики-нолики - это, конечно, далеко не го, и обычный альфа-бета поиск с отсечением здесь наверняка может работать идеально вплоть до довольно больших досок. Однако мы всё-таки для этого учебного задания будем реализовывать более практически релевантный метод MCTS -- заодно фактически получится и упражнение на многоруких бандитов.\n",
    "\n",
    "        1. Реализуйте rollouts со случайной стратегией и (опционально) rollouts с неслучайной, но простой             стратегией (например, основанной на дополнении нескольких паттернов или на Q-функции, которая у вас           получилась в первом пункте).\n",
    "        2. Реализуйте MCTS-поиск с этими rollouts для крестиков-ноликов на досках разного размера, сравните           полученные стратегии между собой и со стратегиями, обученными в первых двух частях."
   ]
  },
  {
   "cell_type": "markdown",
   "metadata": {},
   "source": [
    "## Rollouts "
   ]
  },
  {
   "cell_type": "code",
   "execution_count": 50,
   "metadata": {},
   "outputs": [],
   "source": [
    "def rollout(env, strategy, nrolls, crosses, *args, **kwargs):\n",
    "    possible_actions = [env.int_from_action(env.getEmptySpaces()[i]) for i in range(len(env.getEmptySpaces()))]\n",
    "    rewards = {el: [] for el in possible_actions}\n",
    "    for i in range(nrolls):\n",
    "        for act in possible_actions:\n",
    "            cur_env = deepcopy(env)\n",
    "            _, reward, done, _ = cur_env.step(cur_env.action_from_int(act))\n",
    "            if done:\n",
    "                rewards[act].append(reward * crosses)\n",
    "                continue\n",
    "                \n",
    "            while True:\n",
    "                #opponents turn\n",
    "                p_actions = [cur_env.int_from_action(cur_env.getEmptySpaces()[i]) for i in range(len(cur_env.getEmptySpaces()))]\n",
    "                opponents_action = np.random.choice(p_actions)\n",
    "                _, reward, done, _ = cur_env.step(cur_env.action_from_int(opponents_action))\n",
    "                if done:\n",
    "                    rewards[act].append(reward * crosses)\n",
    "                    break\n",
    "                \n",
    "                #our turn\n",
    "                p_actions = [cur_env.int_from_action(cur_env.getEmptySpaces()[i]) for i in range(len(cur_env.getEmptySpaces()))]\n",
    "                our_action = strategy(cur_env, *args, **kwargs)\n",
    "                \n",
    "                _, reward, done, _ = cur_env.step(cur_env.action_from_int(our_action))\n",
    "                if done:\n",
    "                    rewards[act].append(reward * crosses)\n",
    "                    break\n",
    "                    \n",
    "    actions = {el: np.mean(rewards[el]) for el in possible_actions}\n",
    "    maxi = -10\n",
    "    max_act = 0\n",
    "    for act in actions.keys():\n",
    "        if actions[act] > maxi:\n",
    "            max_act = act\n",
    "            maxi = actions[act]\n",
    "    return max_act, actions"
   ]
  },
  {
   "cell_type": "code",
   "execution_count": 51,
   "metadata": {},
   "outputs": [],
   "source": [
    "def rollout_game(env, strategy, nrolls = 100, crosses = 1, *args, **kwargs):\n",
    "    if crosses != env.curTurn:\n",
    "        possible_actions = [env.int_from_action(env.getEmptySpaces()[i]) for i in range(len(env.getEmptySpaces()))]\n",
    "        opponents_action = np.random.choice(possible_actions)\n",
    "        env.step(env.action_from_int(opponents_action))\n",
    "    \n",
    "    while True:\n",
    "        #our turn\n",
    "        p_actions = [env.int_from_action(env.getEmptySpaces()[i]) for i in range(len(env.getEmptySpaces()))]\n",
    "        our_action, _ = rollout(env, strategy, nrolls, crosses, *args, **kwargs)\n",
    "                \n",
    "        _, reward, done, _ = env.step(env.action_from_int(our_action))\n",
    "        \n",
    "        if done:\n",
    "            return reward * crosses\n",
    "        \n",
    "        #opponents turn\n",
    "        p_actions = [env.int_from_action(env.getEmptySpaces()[i]) for i in range(len(env.getEmptySpaces()))]\n",
    "        opponents_action = np.random.choice(p_actions)\n",
    "        \n",
    "        _, reward, done, _ = env.step(env.action_from_int(opponents_action))\n",
    "        \n",
    "        if done:\n",
    "            return reward * crosses"
   ]
  },
  {
   "cell_type": "code",
   "execution_count": 52,
   "metadata": {},
   "outputs": [],
   "source": [
    "def random_str(env):\n",
    "    possible_actions = [env.int_from_action(env.getEmptySpaces()[i]) for i in range(len(env.getEmptySpaces()))]\n",
    "    return possible_actions[np.random.choice(len(possible_actions))]"
   ]
  },
  {
   "cell_type": "code",
   "execution_count": 53,
   "metadata": {
    "scrolled": true
   },
   "outputs": [],
   "source": [
    "env = TicTacToe(3,3,3)\n",
    "env.reset()"
   ]
  },
  {
   "cell_type": "code",
   "execution_count": 54,
   "metadata": {},
   "outputs": [
    {
     "data": {
      "application/vnd.jupyter.widget-view+json": {
       "model_id": "71275e92f2354e7396761a4de5da6e13",
       "version_major": 2,
       "version_minor": 0
      },
      "text/plain": [
       "  0%|          | 0/100 [00:00<?, ?it/s]"
      ]
     },
     "metadata": {},
     "output_type": "display_data"
    },
    {
     "name": "stdout",
     "output_type": "stream",
     "text": [
      "0.99\n"
     ]
    }
   ],
   "source": [
    "rewards = []\n",
    "for i in tqdm_notebook(range(100)):\n",
    "    env.reset()\n",
    "    rewards.append(rollout_game(env, random_str, nrolls = 100))\n",
    "    \n",
    "print(np.mean(rewards))"
   ]
  },
  {
   "cell_type": "code",
   "execution_count": 55,
   "metadata": {},
   "outputs": [
    {
     "data": {
      "application/vnd.jupyter.widget-view+json": {
       "model_id": "2b314c34065a45c984ae5516e894cfb2",
       "version_major": 2,
       "version_minor": 0
      },
      "text/plain": [
       "  0%|          | 0/100 [00:00<?, ?it/s]"
      ]
     },
     "metadata": {},
     "output_type": "display_data"
    },
    {
     "name": "stdout",
     "output_type": "stream",
     "text": [
      "0.84\n"
     ]
    }
   ],
   "source": [
    "rewards = []\n",
    "for i in tqdm_notebook(range(100)):\n",
    "    env.reset()\n",
    "    rewards.append(rollout_game(env, random_str, nrolls = 100, crosses = -1))\n",
    "    \n",
    "print(np.mean(rewards))"
   ]
  },
  {
   "cell_type": "code",
   "execution_count": 56,
   "metadata": {},
   "outputs": [],
   "source": [
    "env = TicTacToe(4,4,4)\n",
    "env.reset()"
   ]
  },
  {
   "cell_type": "code",
   "execution_count": 57,
   "metadata": {},
   "outputs": [
    {
     "data": {
      "application/vnd.jupyter.widget-view+json": {
       "model_id": "26cef0d95f834b5d9240547f23e8e9f8",
       "version_major": 2,
       "version_minor": 0
      },
      "text/plain": [
       "  0%|          | 0/20 [00:00<?, ?it/s]"
      ]
     },
     "metadata": {},
     "output_type": "display_data"
    },
    {
     "name": "stdout",
     "output_type": "stream",
     "text": [
      "1.0\n"
     ]
    }
   ],
   "source": [
    "rewards = []\n",
    "for i in tqdm_notebook(range(20)):\n",
    "    env.reset()\n",
    "    rewards.append(rollout_game(env, random_str, nrolls = 20))\n",
    "    \n",
    "print(np.mean(rewards))"
   ]
  },
  {
   "cell_type": "code",
   "execution_count": 58,
   "metadata": {},
   "outputs": [
    {
     "data": {
      "application/vnd.jupyter.widget-view+json": {
       "model_id": "2f09a935bdbc427793597643240ce841",
       "version_major": 2,
       "version_minor": 0
      },
      "text/plain": [
       "  0%|          | 0/20 [00:00<?, ?it/s]"
      ]
     },
     "metadata": {},
     "output_type": "display_data"
    },
    {
     "name": "stdout",
     "output_type": "stream",
     "text": [
      "0.9\n"
     ]
    }
   ],
   "source": [
    "rewards = []\n",
    "for i in tqdm_notebook(range(20)):\n",
    "    env.reset()\n",
    "    rewards.append(rollout_game(env, random_str, nrolls = 20, crosses = -1))\n",
    "    \n",
    "print(np.mean(rewards))"
   ]
  },
  {
   "cell_type": "code",
   "execution_count": 59,
   "metadata": {},
   "outputs": [],
   "source": [
    "env = TicTacToe(5,5,5)\n",
    "env.reset()"
   ]
  },
  {
   "cell_type": "code",
   "execution_count": 60,
   "metadata": {},
   "outputs": [
    {
     "data": {
      "application/vnd.jupyter.widget-view+json": {
       "model_id": "38b8a6e5860a4e09b7eab91e22d8910e",
       "version_major": 2,
       "version_minor": 0
      },
      "text/plain": [
       "  0%|          | 0/20 [00:00<?, ?it/s]"
      ]
     },
     "metadata": {},
     "output_type": "display_data"
    },
    {
     "name": "stdout",
     "output_type": "stream",
     "text": [
      "0.9\n"
     ]
    }
   ],
   "source": [
    "rewards = []\n",
    "for i in tqdm_notebook(range(20)):\n",
    "    env.reset()\n",
    "    rewards.append(rollout_game(env, random_str, nrolls = 20))\n",
    "    \n",
    "print(np.mean(rewards))"
   ]
  },
  {
   "cell_type": "code",
   "execution_count": 61,
   "metadata": {},
   "outputs": [
    {
     "data": {
      "application/vnd.jupyter.widget-view+json": {
       "model_id": "175e7cfe50284321942fca95e960aaaf",
       "version_major": 2,
       "version_minor": 0
      },
      "text/plain": [
       "  0%|          | 0/20 [00:00<?, ?it/s]"
      ]
     },
     "metadata": {},
     "output_type": "display_data"
    },
    {
     "name": "stdout",
     "output_type": "stream",
     "text": [
      "0.9\n"
     ]
    }
   ],
   "source": [
    "rewards = []\n",
    "for i in tqdm_notebook(range(20)):\n",
    "    env.reset()\n",
    "    rewards.append(rollout_game(env, random_str, nrolls = 20, crosses = -1))\n",
    "    \n",
    "print(np.mean(rewards))"
   ]
  },
  {
   "cell_type": "markdown",
   "metadata": {},
   "source": [
    "## MCTS"
   ]
  },
  {
   "cell_type": "code",
   "execution_count": 62,
   "metadata": {},
   "outputs": [],
   "source": [
    "def replace(s, position, character):\n",
    "    return s[:position] + character + s[position+1:]"
   ]
  },
  {
   "cell_type": "code",
   "execution_count": 63,
   "metadata": {},
   "outputs": [],
   "source": [
    "C = 0.8\n",
    "\n",
    "class Node():\n",
    "    def __init__(self):\n",
    "        self.parent = None\n",
    "        self.children = {}\n",
    "        self.visits = 0\n",
    "        self.value = 0\n",
    "        self.state = None\n",
    "        self.index = 0\n",
    "        self.storage = None\n",
    "    \n",
    "    def ucb(self):\n",
    "        if self.visits == 0:\n",
    "            return float('inf')\n",
    "        return self.value / self.visits + C * math.sqrt(math.log(self.storage[self.parent].visits) / self.visits)\n",
    "    \n",
    "    def create_children(self):\n",
    "        if self.is_leaf():\n",
    "            np_state = np.array(list(map(int, self.state)))\n",
    "            available_actions = np.where(np_state == 1)[0]\n",
    "            if (len(self.state) - len(available_actions)) % 2 == 0:\n",
    "                curTurn = 1\n",
    "            else:\n",
    "                curTurn = -1\n",
    "            for action in available_actions:\n",
    "                child = Node()\n",
    "                child.parent = self.index\n",
    "                child.state = replace(self.state, action, str(curTurn + 1))\n",
    "                child.index = len(self.storage)\n",
    "                child.storage = self.storage\n",
    "                self.children[action] = child.index\n",
    "                self.storage.append(child)\n",
    "    \n",
    "    def is_leaf(self):\n",
    "        return len(self.children) == 0\n",
    "    \n",
    "    def select_child(self, how=\"best\"):\n",
    "        eps = 0.7\n",
    "        if how == \"best\":\n",
    "            fun = max\n",
    "            characteristic = lambda x: self.storage[x[1]].ucb()\n",
    "        elif how == \"worse\":\n",
    "            fun = min\n",
    "            characteristic = lambda x: self.storage[x[1]].ucb()\n",
    "        elif how == \"random\":\n",
    "            return random.choice(list(self.children.items()))\n",
    "        else:\n",
    "            fun = None\n",
    "            characteristic = None\n",
    "        if not self.is_leaf():\n",
    "            return max(self.children.items(), key=characteristic)"
   ]
  },
  {
   "cell_type": "code",
   "execution_count": 64,
   "metadata": {},
   "outputs": [],
   "source": [
    " def rollout(env, strategy, nrolls, crosses, *args, **kwargs):\n",
    "    possible_actions = [env.int_from_action(env.getEmptySpaces()[i]) for i in range(len(env.getEmptySpaces()))]\n",
    "    cur_env= deepcopy(env)\n",
    "    done = env.gameOver\n",
    "    if done:\n",
    "        return 0 \n",
    "    \n",
    "    while True:\n",
    "        #our turn\n",
    "        p_actions = [cur_env.int_from_action(cur_env.getEmptySpaces()[i]) for i in range(len(cur_env.getEmptySpaces()))]\n",
    "        our_action = strategy(cur_env, *args, **kwargs)\n",
    "                \n",
    "        _, reward, done, _ = cur_env.step(cur_env.action_from_int(our_action))\n",
    "        if done:\n",
    "            return reward * crosses\n",
    "        \n",
    "        #opponents turn\n",
    "        p_actions = [cur_env.int_from_action(cur_env.getEmptySpaces()[i]) for i in range(len(cur_env.getEmptySpaces()))]\n",
    "        opponents_action = np.random.choice(p_actions)\n",
    "        _, reward, done, _ = cur_env.step(cur_env.action_from_int(opponents_action))\n",
    "        if done:\n",
    "            return reward * crosses\n",
    "                "
   ]
  },
  {
   "cell_type": "code",
   "execution_count": 65,
   "metadata": {},
   "outputs": [],
   "source": [
    "class Mcts():\n",
    "    def __init__(self, env, crosses = 1):\n",
    "        self.env = env\n",
    "        self.env.reset()\n",
    "        self.crosses = crosses\n",
    "        self.nodes = []\n",
    "\n",
    "        root = Node()\n",
    "        root.state = self.env.getState()[0]\n",
    "        root.index = 0\n",
    "        root.storage = self.nodes\n",
    "        self.nodes.append(root)\n",
    "        \n",
    "        self.current_node = 0\n",
    "        \n",
    "    def next_step(self):\n",
    "        action, self.current_node = self.nodes[self.current_node].select_child()\n",
    "        self.env.step(self.env.action_from_int(action))\n",
    "    \n",
    "    def selection(self):\n",
    "        while not self.nodes[self.current_node].is_leaf():\n",
    "            self.next_step()\n",
    "    \n",
    "    def expansion(self):\n",
    "        if not self.env.gameOver:\n",
    "            if self.nodes[self.current_node].visits > 0:\n",
    "                self.nodes[self.current_node].create_children()\n",
    "                self.next_step()\n",
    "    \n",
    "    def simulation(self):\n",
    "        return rollout(self.env, random_str, 1, self.crosses)\n",
    "    \n",
    "    def backpropagation(self, r):\n",
    "        while self.nodes[self.current_node].parent is not None:\n",
    "            self.nodes[self.current_node].visits += 1\n",
    "            self.nodes[self.current_node].value += r\n",
    "            self.current_node = self.nodes[self.current_node].parent\n",
    "        self.nodes[self.current_node].visits += 1\n",
    "        self.nodes[self.current_node].value += r\n",
    "    \n",
    "    def learn(self, n_episodes=10000):\n",
    "        for _ in tqdm_notebook(range(n_episodes)):\n",
    "            assert self.current_node == 0\n",
    "            self.env.reset()\n",
    "            self.selection()\n",
    "            self.expansion()\n",
    "            r = self.simulation()\n",
    "            self.backpropagation(r)"
   ]
  },
  {
   "cell_type": "code",
   "execution_count": 69,
   "metadata": {},
   "outputs": [],
   "source": [
    "def run(model, n_episodes = 12, crosses = 1):\n",
    "    cum_rewards = 0\n",
    "    count_games = 0\n",
    "    for _ in range(n_episodes):\n",
    "        model.env.reset()\n",
    "        model.current_node = 0\n",
    "        if crosses == 1:\n",
    "            hows = [None, \"best\", \"random\"]\n",
    "        elif crosses == -1:\n",
    "            hows = [None, \"random\", \"worse\"]\n",
    "        else:\n",
    "            hows = None\n",
    "        while not model.nodes[model.current_node].is_leaf():\n",
    "            action, model.current_node = model.nodes[model.current_node].select_child(hows[model.env.curTurn])\n",
    "            _, reward, done, _ = model.env.step(model.env.action_from_int(action))\n",
    "        if done:\n",
    "            cum_rewards += reward\n",
    "            count_games += 1\n",
    "    mean_reward = cum_rewards / count_games\n",
    "    print(f\"Средняя награда vs random policy = {mean_reward} после {count_games} игр.\")\n",
    "    return mean_reward"
   ]
  },
  {
   "cell_type": "code",
   "execution_count": 70,
   "metadata": {},
   "outputs": [
    {
     "data": {
      "application/vnd.jupyter.widget-view+json": {
       "model_id": "32cba00b42a04b77b65f57e75566e0a3",
       "version_major": 2,
       "version_minor": 0
      },
      "text/plain": [
       "  0%|          | 0/10000 [00:00<?, ?it/s]"
      ]
     },
     "metadata": {},
     "output_type": "display_data"
    },
    {
     "name": "stdout",
     "output_type": "stream",
     "text": [
      "Средняя награда vs random policy = 0.7827368421052632 после 2375 игр.\n"
     ]
    },
    {
     "data": {
      "text/plain": [
       "0.7827368421052632"
      ]
     },
     "execution_count": 70,
     "metadata": {},
     "output_type": "execute_result"
    }
   ],
   "source": [
    "env = TicTacToe(3,3,3)\n",
    "\n",
    "mcts = Mcts(env, 1000000)\n",
    "mcts.learn()\n",
    "run(mcts, 10000)"
   ]
  },
  {
   "cell_type": "code",
   "execution_count": 71,
   "metadata": {},
   "outputs": [
    {
     "data": {
      "application/vnd.jupyter.widget-view+json": {
       "model_id": "51c49f0a2d8e49afacffdb44d69dde2e",
       "version_major": 2,
       "version_minor": 0
      },
      "text/plain": [
       "  0%|          | 0/10000 [00:00<?, ?it/s]"
      ]
     },
     "metadata": {},
     "output_type": "display_data"
    },
    {
     "name": "stdout",
     "output_type": "stream",
     "text": [
      "Средняя награда vs random policy = 1.0 после 73 игр.\n"
     ]
    },
    {
     "data": {
      "text/plain": [
       "1.0"
      ]
     },
     "execution_count": 71,
     "metadata": {},
     "output_type": "execute_result"
    }
   ],
   "source": [
    "env = TicTacToe(4,4,4)\n",
    "\n",
    "mcts = Mcts(env, 10000000)\n",
    "mcts.learn()\n",
    "run(mcts, 100000)"
   ]
  },
  {
   "cell_type": "code",
   "execution_count": null,
   "metadata": {},
   "outputs": [],
   "source": []
  }
 ],
 "metadata": {
  "kernelspec": {
   "display_name": "Python 3",
   "language": "python",
   "name": "python3"
  },
  "language_info": {
   "codemirror_mode": {
    "name": "ipython",
    "version": 3
   },
   "file_extension": ".py",
   "mimetype": "text/x-python",
   "name": "python",
   "nbconvert_exporter": "python",
   "pygments_lexer": "ipython3",
   "version": "3.8.10"
  }
 },
 "nbformat": 4,
 "nbformat_minor": 4
}
